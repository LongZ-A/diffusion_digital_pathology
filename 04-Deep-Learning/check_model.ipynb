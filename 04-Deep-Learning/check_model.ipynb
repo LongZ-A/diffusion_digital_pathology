{
 "cells": [
  {
   "cell_type": "code",
   "execution_count": null,
   "metadata": {},
   "outputs": [],
   "source": [
    "import torch\n",
    "import torch.nn as nn\n",
    "from torch.utils.data import DataLoader\n",
    "from torchvision import transforms\n",
    "from torchvision.datasets import ImageFolder\n",
    "import matplotlib.pyplot as plt \n",
    "import numpy as np\n",
    "import seaborn as sn\n",
    "import pandas as pd \n",
    "from sklearn.metrics import classification_report,matthews_corrcoef,confusion_matrix\n",
    "from tqdm import tqdm\n",
    "from Models import res50\n",
    "import os "
   ]
  },
  {
   "cell_type": "code",
   "execution_count": null,
   "metadata": {},
   "outputs": [],
   "source": [
    "def do_prediction(mdl,dset,btch_size,dvc):\n",
    "    test_dataloader = DataLoader(dataset=dset,num_workers=8,shuffle=False,batch_size=btch_size)\n",
    "    y_prd = []\n",
    "    y_tst = []\n",
    "    for images,labels in tqdm(test_dataloader,desc= 'test_data'):\n",
    "        with torch.no_grad():\n",
    "            images = images.to(dvc)\n",
    "            y = mdl(images)\n",
    "            y_hat = torch.argmax(y, dim=1)\n",
    "            pred = y_hat.cpu().tolist()\n",
    "        labels = labels.tolist()\n",
    "        labels = [lbl for lbl in labels]\n",
    "        pred = [prd for prd in pred]\n",
    "        y_tst.extend(labels)\n",
    "        y_prd.extend(pred)\n",
    "    return y_tst,y_prd"
   ]
  },
  {
   "attachments": {},
   "cell_type": "markdown",
   "metadata": {},
   "source": [
    "Testing the model trained on the real data on the external real test set"
   ]
  },
  {
   "cell_type": "code",
   "execution_count": null,
   "metadata": {},
   "outputs": [],
   "source": [
    "current_directory = os.getcwd()\n",
    "path = os.path.abspath(os.path.join(current_directory,'..','Checkpoint-classifier','lightning_logs','GTEX256_leaveslides','checkpoints','epoch=79-step=83680.ckpt'))\n",
    "data_dir = os.path.abspath(os.path.join(current_directory,'..','Test'))\n",
    "\n",
    "model = res50.load_from_checkpoint(path)\n",
    "device = torch.device(\"cuda:0\" if torch.cuda.is_available() else \"cpu\")\n",
    "model = model.to(device)\n",
    "model.eval()\n",
    "batch_size = 8\n",
    "transform = transforms.Compose([\n",
    "                transforms.Resize(256),\n",
    "                transforms.ToTensor(),\n",
    "                transforms.Normalize(mean=[0.7358, 0.4814, 0.6079], \n",
    "                            std= [0.1314, 0.1863, 0.1465]\n",
    "                            )\n",
    "                ])\n",
    "dataset = ImageFolder(root= data_dir,transform= transform)\n",
    "class_labels = dataset.classes\n",
    "num_classes = len(class_labels)\n",
    "y_test,y_pred = do_prediction(model,dataset,batch_size,device)\n",
    "print('\\nClassification Report\\n')\n",
    "print(classification_report(np.array(y_test), np.array(y_pred), target_names= class_labels))\n",
    "mcc = matthews_corrcoef(np.array(y_test), np.array(y_pred))\n",
    "print('\\nMatthews Correlation Coefficient\\n')\n",
    "print(mcc)\n",
    "cf = {}\n",
    "cf['real-real'] = confusion_matrix(np.array(y_test), np.array(y_pred))\n"
   ]
  },
  {
   "attachments": {},
   "cell_type": "markdown",
   "metadata": {},
   "source": [
    "Testing the model trained on the real data on the fake data"
   ]
  },
  {
   "cell_type": "code",
   "execution_count": null,
   "metadata": {},
   "outputs": [],
   "source": [
    "data_dir = os.path.abspath(os.path.join(current_directory,'..','Generated-data','synthetic_tiles_512TO256_GTEX'))\n",
    "\n",
    "transform = transforms.Compose([\n",
    "                transforms.ToTensor(),\n",
    "                transforms.Normalize(mean=[0.7358, 0.4814, 0.6079], \n",
    "                            std= [0.1314, 0.1863, 0.1465]\n",
    "                            )\n",
    "                ])\n",
    "dataset = ImageFolder(root= data_dir,transform= transform)\n",
    "class_labels = dataset.classes\n",
    "num_classes = len(class_labels)\n",
    "y_test,y_pred = do_prediction(model,dataset,batch_size,device)\n",
    "print('\\nClassification Report\\n')\n",
    "print(classification_report(np.array(y_test), np.array(y_pred), target_names= class_labels))\n",
    "mcc = matthews_corrcoef(np.array(y_test), np.array(y_pred))\n",
    "print('\\nMatthews Correlation Coefficient\\n')\n",
    "print(mcc)\n",
    "cf['real-fake'] = confusion_matrix(np.array(y_test), np.array(y_pred))"
   ]
  },
  {
   "attachments": {},
   "cell_type": "markdown",
   "metadata": {},
   "source": [
    "Testing the model trained on the fake data on the internal test set"
   ]
  },
  {
   "cell_type": "code",
   "execution_count": null,
   "metadata": {},
   "outputs": [],
   "source": [
    "path = os.path.abspath(os.path.join(current_directory,'..','Checkpoint-classifier','lightning_logs','256_GTEX_fakedata','checkpoints','epoch=79-step=52560.ckpt'))\n",
    "data_dir = os.path.abspath(os.path.join(current_directory,'..','Test_internal'))\n",
    "\n",
    "model = res50.load_from_checkpoint(path)\n",
    "device = torch.device(\"cuda:1\" if torch.cuda.is_available() else \"cpu\")\n",
    "model = model.to(device)\n",
    "model.eval()\n",
    "batch_size = 8\n",
    "transform =  transforms.Compose([\n",
    "                transforms.Resize(256),\n",
    "                transforms.ToTensor(),\n",
    "                transforms.Normalize(mean=[0.6895, 0.4152, 0.5501], \n",
    "                            std= [0.1044, 0.1355, 0.1108]\n",
    "                            )\n",
    "                ])\n",
    "dataset = ImageFolder(root= data_dir,transform= transform)\n",
    "class_labels = dataset.classes\n",
    "num_classes = len(class_labels)\n",
    "y_test,y_pred = do_prediction(model,dataset,batch_size,device)\n",
    "print('\\nClassification Report\\n')\n",
    "print(classification_report(np.array(y_test), np.array(y_pred), target_names= class_labels))\n",
    "mcc = matthews_corrcoef(np.array(y_test), np.array(y_pred))\n",
    "print('\\nMatthews Correlation Coefficient\\n')\n",
    "print(mcc)\n",
    "cf['fake-real'] = confusion_matrix(np.array(y_test), np.array(y_pred))"
   ]
  },
  {
   "attachments": {},
   "cell_type": "markdown",
   "metadata": {},
   "source": [
    "Testing the model trained on the fake data on the external test set"
   ]
  },
  {
   "cell_type": "code",
   "execution_count": null,
   "metadata": {},
   "outputs": [],
   "source": [
    "data_dir = os.path.abspath(os.path.join(current_directory,'..','Test'))\n",
    "dataset = ImageFolder(root= data_dir,transform= transform)\n",
    "class_labels = dataset.classes\n",
    "num_classes = len(class_labels)\n",
    "y_test,y_pred = do_prediction(model,dataset,batch_size,device)\n",
    "print('\\nClassification Report\\n')\n",
    "print(classification_report(np.array(y_test), np.array(y_pred), target_names= class_labels))\n",
    "mcc = matthews_corrcoef(np.array(y_test), np.array(y_pred))\n",
    "print('\\nMatthews Correlation Coefficient\\n')\n",
    "print(mcc)\n",
    "cf['fake-real_external'] = confusion_matrix(np.array(y_test), np.array(y_pred))"
   ]
  },
  {
   "attachments": {},
   "cell_type": "markdown",
   "metadata": {},
   "source": [
    "Visualizing the results"
   ]
  },
  {
   "cell_type": "code",
   "execution_count": null,
   "metadata": {},
   "outputs": [],
   "source": [
    "font_properties = {'fontname': 'sans-serif', 'fontsize': 12}\n",
    "titles = ['Experiment 2.1', 'Experiment 2.2','Experiment 2.3','Experiment 2.4']\n",
    "sup_ttl = 'Classifier Results'\n",
    "sup_font_properties = {'fontname': 'sans-serif', 'fontsize': 14}\n",
    "annot_properties={'fontsize': 8,'fontname': 'sans-serif'}\n",
    "color = 'Blues'\n",
    "\n",
    "\n",
    "num_figures = len(cf.keys())\n",
    "figsz = ((num_figures)*3.54,3.54)\n",
    "width_ratios = []\n",
    "for i in range(num_figures):\n",
    "    width_ratios.append(1)\n",
    "fig,axes = plt.subplots(1,num_figures, gridspec_kw={'width_ratios':width_ratios},figsize = figsz,dpi = 600);\n",
    "fig.suptitle(sup_ttl,**sup_font_properties)\n",
    "\n",
    "\n",
    "for num,key in enumerate(cf.keys()):\n",
    "    ttl = titles[num]\n",
    "    conf_matrix = cf[key]\n",
    "    df_conf_matrix = pd.DataFrame(conf_matrix,index= [i for i in class_labels],columns= [i for i in class_labels])\n",
    "    if num == 0:\n",
    "        g = sn.heatmap(df_conf_matrix,square=True,cmap= color ,annot=True,fmt=\".0f\",annot_kws=annot_properties,cbar=False,ax=axes[num]);\n",
    "        g.set_ylabel('actual',**font_properties);\n",
    "    else:\n",
    "        g = sn.heatmap(df_conf_matrix,square=True, cmap = color,fmt=\".0f\",annot=True,annot_kws=annot_properties,cbar=False,ax=axes[num]);\n",
    "        g.set_yticks([])\n",
    "    g.set_xlabel('predicted',**font_properties);\n",
    "    g.set_title(ttl,**font_properties);\n",
    "\n",
    "for ax in axes:\n",
    "    ax.tick_params(axis='both', labelsize=10,width = 1);\n",
    "plt.tight_layout()\n",
    "plt.savefig(os.path.join(os.getcwd(),'classifier_results.png'),dpi=600)\n",
    "plt.savefig(os.path.join(os.getcwd(),'classifier_results.svg'))"
   ]
  },
  {
   "cell_type": "code",
   "execution_count": null,
   "metadata": {},
   "outputs": [],
   "source": []
  }
 ],
 "metadata": {
  "kernelspec": {
   "display_name": "dpm",
   "language": "python",
   "name": "python3"
  },
  "language_info": {
   "codemirror_mode": {
    "name": "ipython",
    "version": 3
   },
   "file_extension": ".py",
   "mimetype": "text/x-python",
   "name": "python",
   "nbconvert_exporter": "python",
   "pygments_lexer": "ipython3",
   "version": "3.10.12"
  },
  "orig_nbformat": 4,
  "vscode": {
   "interpreter": {
    "hash": "e659ab2d2cb6427426232f03cd622886f44bd4c681a428540cb93a3b509fd9d0"
   }
  }
 },
 "nbformat": 4,
 "nbformat_minor": 2
}
