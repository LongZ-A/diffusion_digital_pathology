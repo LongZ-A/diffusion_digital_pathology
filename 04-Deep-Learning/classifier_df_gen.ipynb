{
 "cells": [
  {
   "cell_type": "code",
   "execution_count": 1,
   "metadata": {},
   "outputs": [],
   "source": [
    "import shutil\n",
    "import os\n",
    "import pandas as pd\n",
    "import random"
   ]
  },
  {
   "cell_type": "markdown",
   "metadata": {},
   "source": [
    "Set Directories"
   ]
  },
  {
   "cell_type": "code",
   "execution_count": null,
   "metadata": {},
   "outputs": [],
   "source": [
    "current_directory = os.getcwd()\n",
    "filtered_tiles_path = os.path.abspath(os.path.join(current_directory, '..', 'Train')) # where the filtered tiles are stored\n",
    "slides_path = os.path.abspath(os.path.join(current_directory, '..', 'Slides','slides')) # where the slides are stored\n",
    "test_path = os.path.abspath(os.path.join(current_directory, '..', 'Test_internal')) # where you want to save the test data\n",
    "tissues = [\"Brain\",\"Kidney\",\"Uterus\",\"Pancreas\",\"Lung\"] # the tissues you want to use\n",
    "csv_metadata = os.path.abspath(os.path.join(current_directory,'..','01-Preprocessing','data_generation','GTEx Portal.csv')) # where is the GTEx metadata file"
   ]
  },
  {
   "cell_type": "code",
   "execution_count": null,
   "metadata": {},
   "outputs": [],
   "source": [
    "metadata = pd.read_csv(csv_metadata)\n",
    "metadata['Tissue'] = metadata['Tissue'].replace({\"Kidney - Cortex\":\"Kidney\",\"Brain - Cortex\":\"Brain\"})\n",
    "slides = []\n",
    "for root, dirs, files in os.walk(slides_path):\n",
    "    slides.extend(files)\n",
    "\n",
    "slides = [slide[:-4] for slide in slides]\n"
   ]
  },
  {
   "attachments": {},
   "cell_type": "markdown",
   "metadata": {},
   "source": [
    "Split train and test slides and save them "
   ]
  },
  {
   "cell_type": "code",
   "execution_count": 3,
   "metadata": {},
   "outputs": [
    {
     "name": "stdout",
     "output_type": "stream",
     "text": [
      "Test slides for Brain:['GTEX-1JN1M-3226', 'GTEX-1399T-3026', 'GTEX-11DYG-3026', 'GTEX-1QMI2-3126', 'GTEX-15D79-3026', 'GTEX-145MF-2726', 'GTEX-13RTJ-3026', 'GTEX-139TU-3026', 'GTEX-132Q8-3026', 'GTEX-1LSVX-2726', 'GTEX-ZUA1-3026', 'GTEX-1I1CD-3026', 'GTEX-12WSE-3026', 'GTEX-1IL2V-2926', 'GTEX-1F6I4-3126', 'GTEX-11EI6-3026', 'GTEX-13QJC-3226']\n",
      "Test slides for Kidney:['GTEX-1POEN-2126', 'GTEX-132NY-2326', 'GTEX-113JC-0626', 'GTEX-QMR6-2426', 'GTEX-14PHW-2126', 'GTEX-14C5O-2026', 'GTEX-145MI-2126', 'GTEX-139D8-2226', 'GTEX-12WSH-1326', 'GTEX-1RQED-1926', 'GTEX-ZYFG-1626', 'GTEX-1J8Q2-2126', 'GTEX-12WSA-2126', 'GTEX-1M4P7-2026', 'GTEX-1GN1V-1726', 'GTEX-1192X-2026', 'GTEX-145MG-2026']\n",
      "Test slides for Uterus:['GTEX-POMQ-1226', 'GTEX-13N11-1126', 'GTEX-11ZTT-1726', 'GTEX-SN8G-2526', 'GTEX-15DCZ-2226', 'GTEX-14LZ3-2526', 'GTEX-14BMU-1826', 'GTEX-13OVJ-2326', 'GTEX-13FTX-1026', 'GTEX-PX3G-2026', 'GTEX-ZPIC-1226', 'GTEX-1LVAN-1926', 'GTEX-139D8-2526', 'GTEX-OHPL-2026', 'GTEX-1F88F-2026', 'GTEX-11ZVC-1526', 'GTEX-14BIN-1526']\n",
      "Test slides for Pancreas:['GTEX-NPJ7-0726', 'GTEX-131YS-1926', 'GTEX-11EI6-1726', 'GTEX-UPIC-0726', 'GTEX-15EOM-1326', 'GTEX-14PHX-2026', 'GTEX-14BIM-1026', 'GTEX-139UC-1526', 'GTEX-131XW-2126', 'GTEX-QV44-0426', 'GTEX-ZV7C-0726', 'GTEX-1MCC2-0926', 'GTEX-12ZZX-1826', 'GTEX-1R7EV-1126', 'GTEX-1H3O1-1026', 'GTEX-11P7K-0526', 'GTEX-14ABY-1726']\n",
      "Test slides for Lung:['GTEX-PLZ4-0726', 'GTEX-131XF-5010', 'GTEX-11EMC-0126', 'GTEX-TSE9-0726', 'GTEX-15EO6-0326', 'GTEX-14PJ2-0826', 'GTEX-14BIM-0726', 'GTEX-13D11-0326', 'GTEX-1313W-0926', 'GTEX-RUSQ-0626', 'GTEX-ZVT3-0926', 'GTEX-1NHNU-0426', 'GTEX-13111-0426', 'GTEX-NFK9-1026', 'GTEX-1HSEH-0926', 'GTEX-11P7K-0326', 'GTEX-148VI-0226']\n"
     ]
    }
   ],
   "source": [
    "for tissue in tissues:\n",
    "    slides_of_tissue = metadata[(metadata['Tissue Sample ID'].isin(slides)) & (metadata['Tissue'] == tissue)]\n",
    "    n_slides = slides_of_tissue.shape[0]\n",
    "    n_test_slides = (n_slides * 15) // 100\n",
    "    random.seed(42)\n",
    "    test_slides = random.sample(slides_of_tissue['Tissue Sample ID'].tolist(),n_test_slides)\n",
    "    print(f\"Test slides for {tissue}:{test_slides}\")\n",
    "\n",
    "    tissue_tiles = []\n",
    "    for root, dirs, files in os.walk(filtered_tiles_path+tissue+\"/\"):\n",
    "        tissue_tiles.extend(files)\n",
    "    \n",
    "    for tile in tissue_tiles:\n",
    "        tile_split = tile.split(\"-\")\n",
    "\n",
    "        slide_of_origin = \"-\".join(tile_split[-5:-2])\n",
    "        if(slide_of_origin in test_slides):\n",
    "            #test\n",
    "            shutil.copy(filtered_tiles_path+tissue+\"/\"+tile,test_path+tissue+\"/\")\n"
   ]
  },
  {
   "cell_type": "code",
   "execution_count": null,
   "metadata": {},
   "outputs": [],
   "source": []
  }
 ],
 "metadata": {
  "kernelspec": {
   "display_name": "Python 3.10.6 ('ecdp23': venv)",
   "language": "python",
   "name": "python3"
  },
  "language_info": {
   "codemirror_mode": {
    "name": "ipython",
    "version": 3
   },
   "file_extension": ".py",
   "mimetype": "text/x-python",
   "name": "python",
   "nbconvert_exporter": "python",
   "pygments_lexer": "ipython3",
   "version": "3.10.6"
  },
  "orig_nbformat": 4,
  "vscode": {
   "interpreter": {
    "hash": "53c91bd9870a536bebe26c0f2dc01724be7018d776b7a7ee5402568617d41124"
   }
  }
 },
 "nbformat": 4,
 "nbformat_minor": 2
}
