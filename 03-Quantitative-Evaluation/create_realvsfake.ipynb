{
 "cells": [
  {
   "cell_type": "code",
   "execution_count": 1,
   "metadata": {},
   "outputs": [],
   "source": [
    "import torch\n",
    "from torchvision.datasets import ImageFolder\n",
    "import os \n",
    "import random\n",
    "import numpy as np\n",
    "import shutil\n",
    "import PIL\n",
    "from torchvision import transforms\n",
    "import os\n",
    "\n"
   ]
  },
  {
   "cell_type": "code",
   "execution_count": 2,
   "metadata": {},
   "outputs": [],
   "source": [
    "current_directory = os.getcwd()\n",
    "gen_data_dir = os.path.abspath(os.path.join(current_directory, '..', 'Generated-data'))\n",
    "real_data_dir = os.path.abspath(os.path.join(current_directory, '..', 'Train'))\n",
    "where_to_copy = os.path.abspath(os.path.join(current_directory, '..', 'real_vs_fake'))\n",
    "os.mkdir(where_to_copy)\n",
    "\n",
    "dataset_gen = ImageFolder(root=gen_data_dir)\n",
    "dataset_real = ImageFolder(root=real_data_dir)\n",
    "all_idx = list(range(len(dataset_real.samples)))\n",
    "labels = dataset_real.targets\n",
    "num_classes = len(set(labels))\n",
    "\n",
    "random.seed(42)\n"
   ]
  },
  {
   "cell_type": "code",
   "execution_count": 18,
   "metadata": {},
   "outputs": [],
   "source": [
    "\n",
    "resize = transforms.Resize(256)\n",
    "dst = os.path.join(where_to_copy, 'real')\n",
    "os.mkdir(dst)\n",
    "for i in range(num_classes):\n",
    "    class_indices = np.where(np.array(labels) == i)[0]\n",
    "    num_fake_per_class = len(np.where(np.array(dataset_gen.targets) == i)[0])\n",
    "    class_samples = [all_idx[idx] for idx in class_indices]\n",
    "    class_name = list(dataset_real.class_to_idx.keys())[i]\n",
    "    tmp = random.sample(class_samples,num_fake_per_class)\n",
    "    for num,idx in enumerate(tmp):\n",
    "        src = dataset_real.samples[idx][0]\n",
    "        img = PIL.Image.open(src).convert('RGB')\n",
    "        img = resize(img)\n",
    "        dest_path = dst + class_name + str(num) + '.png'\n",
    "        img.save(dest_path)\n",
    "\n"
   ]
  },
  {
   "cell_type": "code",
   "execution_count": 3,
   "metadata": {},
   "outputs": [],
   "source": [
    "dst = os.path.join(where_to_copy, 'fake')\n",
    "os.mkdir(dst)\n",
    "for num,sample in enumerate(dataset_gen.samples):\n",
    "    src = sample[0]\n",
    "    dst_file = dst+ str(num) + '.png'\n",
    "    shutil.copyfile(src, dst_file)"
   ]
  }
 ],
 "metadata": {
  "kernelspec": {
   "display_name": "dpm",
   "language": "python",
   "name": "python3"
  },
  "language_info": {
   "codemirror_mode": {
    "name": "ipython",
    "version": 3
   },
   "file_extension": ".py",
   "mimetype": "text/x-python",
   "name": "python",
   "nbconvert_exporter": "python",
   "pygments_lexer": "ipython3",
   "version": "3.10.6"
  },
  "orig_nbformat": 4
 },
 "nbformat": 4,
 "nbformat_minor": 2
}
